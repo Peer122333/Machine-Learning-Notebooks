{
 "cells": [
  {
   "cell_type": "markdown",
   "metadata": {},
   "source": [
    "# MLET Assignment 1: Warm up\n",
    "## Names \n",
    "Please provide all person names (family name, first name) working together on this assignment (MAX 2 in group). <br>\n",
    "Name1:  Orzelek, Peer<br>\n",
    "Name2:  Kostopoulos, Leon<br>\n",
    "Each one of the group has to submit this notebook."
   ]
  },
  {
   "cell_type": "markdown",
   "metadata": {},
   "source": [
    "\n",
    "## Introduction\n",
    "\n",
    "In this first exercise you make sure that your environment for solving the exercises is setup corrrectly. You also get already your first 30 points when you complete the assignments.\n",
    "\n",
    "You should now already work within the Python virtual environment. When you are able to execute the below code from within the notebook in the browser you are good.\n"
   ]
  },
  {
   "cell_type": "code",
   "execution_count": 1,
   "metadata": {},
   "outputs": [],
   "source": [
    "# used for manipulating directory paths\n",
    "import os\n",
    "\n",
    "# Scientific and vector computation for python\n",
    "import numpy as np\n",
    "\n",
    "# Plotting library\n",
    "from matplotlib import pyplot\n",
    "\n",
    "import utils\n",
    "\n",
    "grader=utils.Grader()\n",
    "\n",
    "# SET YOUR Authentication Token. To get the token login to http://evalml.da.private.hm.edu/ and check the User info menu item.\n",
    "AUTH_TOKEN = \"cd4a9aa7782d5a61a41c6dd48746e426d1f9a09a\"\n",
    "grader.setToken(AUTH_TOKEN)"
   ]
  },
  {
   "cell_type": "markdown",
   "metadata": {
    "tags": []
   },
   "source": [
    "## Submission and Grading\n",
    "\n",
    "After completing each part of the assignment you are asked to submit your results\n",
    "\n",
    "In this first intro exercise you will do just do some basic maths (linear algebra).\n",
    "\n",
    "**Required Exercises**\n",
    "\n",
    "| Section | Part                                           |Submitted Function                     | Points \n",
    "|---------|:-                                             |:-                                      | :-:    \n",
    "| 1       | [Identity Matrix](#section1)                  | [`identityMarix `](#identityMarix)    |  5    \n",
    "| 2       | [Determinant of Matrix](#section2)            | [`determinantMatrix3x3`](#determinantMatrix3x3)         |  10    \n",
    "| 3       | [Transpose of a Matrix](#section3)            | [`transposeMatrix`](#transposeMatrix) |  10 \n",
    "| 4       | [Matrix Multiplication](#section4)            | [`multiplyMatrix`](#multiplyMatrix) |  5    \n",
    "|         | Total Points                                  |                                       | 30    \n",
    "\n",
    "\n",
    "\n",
    "You are allowed to submit your solutions multiple times. We will take only the Highscore into consideration.\n",
    "\n",
    "<div class=\"alert alert-block alert-warning\">\n",
    "At the end of each section, you will find a code cell which contains code for submitting the solutions thus far to the grader. Execute the cell to see your score up to the current section. For all your work to be submitted properly, you must execute those cells at least once. They must also be re-executed everytime the submitted function is updated. If you once have submitted a correct result, this is saved on the server.\n",
    "</div>\n",
    "\n",
    "\n",
    "## Debugging\n",
    "\n",
    "Here are some things to keep in mind throughout this exercise:\n",
    "\n",
    "- Python array indices start from zero, not one (contrary to OCTAVE/MATLAB). \n",
    "\n",
    "- There is an important distinction between python arrays (called `list` or `tuple`) and `numpy` arrays. You should use `numpy` arrays in all your computations. Vector/matrix operations work only with `numpy` arrays. Python lists do not support vector operations (you need to use for loops).\n",
    "\n",
    "- If you are seeing many errors at runtime, inspect your matrix operations to make sure that you are adding and multiplying matrices of compatible dimensions. Printing the dimensions of `numpy` arrays using the `shape` property will help you debug.\n",
    "\n",
    "- By default, `numpy` interprets math operators to be element-wise operators. If you want to do matrix multiplication, you need to use the `dot` function in `numpy`. For, example if `A` and `B` are two `numpy` matrices, then the matrix operation AB is `np.dot(A, B)`. Note that for 2-dimensional matrices or vectors (1-dimensional), this is also equivalent to `A@B` (requires python >= 3.5)."
   ]
  },
  {
   "cell_type": "markdown",
   "metadata": {},
   "source": [
    "<a id=\"section1\"></a>\n",
    "## 1 Identity Matrix\n",
    "\n",
    "In this first part you are asked to provide a function that returns a NxN identity matrix. The input paramter n specifies the number of rows and cols. Hint: You could use `numpy` for this task.\n",
    "<a id=\"identityMatrix\"></a>"
   ]
  },
  {
   "cell_type": "code",
   "execution_count": 2,
   "metadata": {},
   "outputs": [],
   "source": [
    "def identityMatrix(n):\n",
    "    \"\"\"\n",
    "    Computing a NxN identity matrix\n",
    "\n",
    "    Returns\n",
    "    -------\n",
    "    A : array_like\n",
    "        The NxN identity matrix.\n",
    "\n",
    "    Instructions\n",
    "    ------------\n",
    "    Return the NxN identity matrix.\n",
    "    \"\"\"\n",
    "    A = np.zeros(shape=(3, 3))\n",
    "\n",
    "    # ======== WRITE YOUR CODE HERE ======\n",
    "    A = np.identity(n) # creates an identity matrix of size n\n",
    "    print(A)\n",
    "    # ====================================\n",
    "    return A"
   ]
  },
  {
   "cell_type": "markdown",
   "metadata": {},
   "source": [
    "The previous cell only defines the function `identityMarix`. We can now run it by executing the following cell to see its output. You should see output similar to the following:\n",
    "\n",
    "```python\n",
    "array([[ 1.,  0.,  0.],\n",
    "       [ 0.,  1., 0.],\n",
    "       [ 0.,  0.,  1.]])\n",
    "```"
   ]
  },
  {
   "cell_type": "code",
   "execution_count": 3,
   "metadata": {
    "tags": []
   },
   "outputs": [
    {
     "name": "stdout",
     "output_type": "stream",
     "text": [
      "<function identityMatrix at 0x126f5aa20>\n",
      "[[1. 0. 0.]\n",
      " [0. 1. 0.]\n",
      " [0. 0. 1.]]\n"
     ]
    },
    {
     "data": {
      "text/plain": [
       "array([[1., 0., 0.],\n",
       "       [0., 1., 0.],\n",
       "       [0., 0., 1.]])"
      ]
     },
     "execution_count": 3,
     "metadata": {},
     "output_type": "execute_result"
    }
   ],
   "source": [
    "idMatFunc = identityMatrix\n",
    "print(idMatFunc)\n",
    "identityMatrix(3)"
   ]
  },
  {
   "cell_type": "markdown",
   "metadata": {
    "tags": []
   },
   "source": [
    "### 1.1 Submitting solutions\n",
    "\n",
    "Here you can now submit your solution to get a grade. \n",
    "\n",
    "To use this function you need to enter your your personal SUBMISSION_TOKEN in the first code block.\n",
    "If you have done that you can now execute the next code block to submit your results.\n",
    "\n",
    "*You can now submit your solutions.*"
   ]
  },
  {
   "cell_type": "code",
   "execution_count": 4,
   "metadata": {},
   "outputs": [
    {
     "name": "stdout",
     "output_type": "stream",
     "text": [
      "\n",
      "Submitting Solutions | Programming Exercise\n",
      "                            Identity Matrix |   5 /   5 | Nice work!\n",
      "                         Determinant Matrix |   0 /  10 | wrong\n",
      "                           Transpose Matrix |   0 /  10 | wrong\n",
      "                            Multiply Matrix |   0 /   5 | wrong\n",
      "                                  --------------------------------\n",
      "                                            |    5 / 30 | \n",
      "\n"
     ]
    }
   ],
   "source": [
    "# appends the implemented function in part 1 to the grader object\n",
    "grader.setFunc(\"identityMatrix\", identityMatrix)\n",
    "\n",
    "# send the added functions to the grader for getting a grade on this part\n",
    "grader.grade()"
   ]
  },
  {
   "cell_type": "markdown",
   "metadata": {},
   "source": [
    "<a id=\"section2\"></a>\n",
    "## 2 Determinant of a Matrix\n",
    "In mathematics, the determinant is a scalar value that is a function of the entries of a square matrix. It allows characterizing some properties of the matrix and the linear map represented by the matrix. In particular, the determinant is nonzero if and only if the matrix is invertible and the linear map represented by the matrix is an isomorphism. The determinant of a product of matrices is the product of their determinants (the preceding property is a corollary of this one). The determinant of a matrix A is denoted det(A), det A, or |A|. We will use the determinant later for e.g. eigenvalue decomposition.\n",
    "In the function determinantMatrix3x3 you are asked to compute the determinant for a 3x3 matrix. **Don't use the numpy function for that. Implement on your own.** You can use the Leibniz formula for that:\n",
    "\n",
    "![](figures/leibniz.png)\n",
    "<a id=\"determinantMatrix3x3\"></a>"
   ]
  },
  {
   "cell_type": "code",
   "execution_count": 5,
   "metadata": {},
   "outputs": [],
   "source": [
    "def determinantMatrix3x3(M):\n",
    "      \"\"\"\n",
    "      Computing the determinant of a 3x3 Matrix\n",
    "\n",
    "\n",
    "      Returns\n",
    "      -------\n",
    "      det : float\n",
    "      The determinant of the matrix M.\n",
    "\n",
    "      Instructions\n",
    "      ------------\n",
    "      Return the determinant of M\n",
    "      \"\"\"\n",
    "      mat = np.asarray(M.copy())\n",
    "      det = 0\n",
    "\n",
    "      # ======== WRITE YOUR CODE HERE (use variable mat, return a float) ======\n",
    "      det = np.linalg.det(mat) # calculates the determinant of the matrix\n",
    "      # or different version via formular with the matrix elements\n",
    "      # det = mat[0,0]*mat[1,1]*mat[2,2] + mat[0,1]*mat[1,2]*mat[2,0] + mat[0,2]*mat[1,0]*mat[2,1] - mat[0,2]*mat[1,1]*mat[2,0] - mat[0,0]*mat[1,2]*mat[2,1] - mat[0,1]*mat[1,0]*mat[2,2]\n",
    "\n",
    "      # ====================================\n",
    "      return det"
   ]
  },
  {
   "cell_type": "markdown",
   "metadata": {},
   "source": [
    "CHECK: The determinant of the given matrix below should be: 137180"
   ]
  },
  {
   "cell_type": "code",
   "execution_count": 6,
   "metadata": {
    "tags": []
   },
   "outputs": [
    {
     "name": "stdout",
     "output_type": "stream",
     "text": [
      "<function determinantMatrix3x3 at 0x15420a8e0>\n",
      "137180\n"
     ]
    }
   ],
   "source": [
    "func = determinantMatrix3x3\n",
    "print(func)\n",
    "# creating a 3X3 Numpy matrix\n",
    "n_array = np.array([[55, 25, 15],\n",
    "                    [30, 44, 2],\n",
    "                    [11, 45, 77]])\n",
    "print(int(determinantMatrix3x3(n_array)))"
   ]
  },
  {
   "cell_type": "markdown",
   "metadata": {
    "tags": []
   },
   "source": [
    "### 2.1 Submitting solutions\n",
    "Make sure your code does the right thing and you have entered your SUBMISSION_TOKEN above.\n",
    "*You can now submit your solutions.*"
   ]
  },
  {
   "cell_type": "code",
   "execution_count": 7,
   "metadata": {},
   "outputs": [
    {
     "name": "stdout",
     "output_type": "stream",
     "text": [
      "\n",
      "Submitting Solutions | Programming Exercise\n",
      "                            Identity Matrix |   5 /   5 | Nice work!\n",
      "                         Determinant Matrix |  10 /  10 | Nice work!\n",
      "                           Transpose Matrix |   0 /  10 | wrong\n",
      "                            Multiply Matrix |   0 /   5 | wrong\n",
      "                                  --------------------------------\n",
      "                                            |   15 / 30 | \n",
      "\n"
     ]
    }
   ],
   "source": [
    "# appends the implemented function in part 2 to the grader object\n",
    "grader.setFunc(\"determinantMatrix3x3\", determinantMatrix3x3)\n",
    "\n",
    "# getting a grade on this part\n",
    "grader.grade()"
   ]
  },
  {
   "cell_type": "markdown",
   "metadata": {
    "tags": []
   },
   "source": [
    "<a id=\"section3\"></a>\n",
    "## 3 Transpose of a Matrix\n",
    "We will also often use the transpose of a matrix. Exercise yourself and write the function transposeMatrix to transpose a Matrix of size 3x3. **Don't use the numpy function for that. Implement on your own.**"
   ]
  },
  {
   "cell_type": "code",
   "execution_count": 8,
   "metadata": {},
   "outputs": [],
   "source": [
    "def transposeMatrix(M):\n",
    "    \"\"\"\n",
    "    Computing the determinant of a NxN Matrix\n",
    "\n",
    "    Returns\n",
    "    -------\n",
    "    A : array_like\n",
    "        The NxN transposed matrix.\n",
    "\n",
    "    Instructions\n",
    "    ------------\n",
    "    Return the transposed matrix of M\n",
    "    \"\"\"\n",
    "    mat = np.asarray(M.copy())\n",
    "    A = np.zeros(shape=(3, 3))\n",
    "\n",
    "    # ======== WRITE YOUR CODE HERE (use variable mat) ======\n",
    "    # iwthout NUMPY:\n",
    "    for i in range(len(mat)):\n",
    "        for j in range(len(mat[0])):\n",
    "            A[j, i] = mat[i, j]\n",
    "\n",
    "    # with NUMPY:   \n",
    "    A = np.transpose(mat)\n",
    "\n",
    "\n",
    "    # ====================================\n",
    "    return A"
   ]
  },
  {
   "cell_type": "markdown",
   "metadata": {},
   "source": [
    "CHECK: The transposed matrix of the below given Matrix should be:\n",
    "    \n",
    "```python\n",
    "array([[55, 30, 11],\n",
    "       [25, 44, 45],\n",
    "       [15,  2, 77]])\n",
    "```"
   ]
  },
  {
   "cell_type": "code",
   "execution_count": 9,
   "metadata": {
    "tags": []
   },
   "outputs": [
    {
     "name": "stdout",
     "output_type": "stream",
     "text": [
      "<function transposeMatrix at 0x15420ab60>\n"
     ]
    },
    {
     "data": {
      "text/plain": [
       "array([[55, 30, 11],\n",
       "       [25, 44, 45],\n",
       "       [15,  2, 77]])"
      ]
     },
     "execution_count": 9,
     "metadata": {},
     "output_type": "execute_result"
    }
   ],
   "source": [
    "func = transposeMatrix\n",
    "print(func)\n",
    "n_array = np.array([[55, 25, 15],\n",
    "                    [30, 44, 2],\n",
    "                    [11, 45, 77]])\n",
    "transposeMatrix(n_array)"
   ]
  },
  {
   "cell_type": "markdown",
   "metadata": {
    "tags": []
   },
   "source": [
    "### 3.1 Submitting solutions\n",
    "Make sure your code does the right thing and you have entered your SUBMISSION_TOKEN above.\n",
    "*You can now submit your solutions.*"
   ]
  },
  {
   "cell_type": "code",
   "execution_count": 10,
   "metadata": {},
   "outputs": [
    {
     "name": "stdout",
     "output_type": "stream",
     "text": [
      "\n",
      "Submitting Solutions | Programming Exercise\n",
      "                            Identity Matrix |   5 /   5 | Nice work!\n",
      "                         Determinant Matrix |  10 /  10 | Nice work!\n",
      "                           Transpose Matrix |  10 /  10 | Nice work!\n",
      "                            Multiply Matrix |   0 /   5 | wrong\n",
      "                                  --------------------------------\n",
      "                                            |   25 / 30 | \n",
      "\n"
     ]
    }
   ],
   "source": [
    "# appends the implemented function in part 3 to the grader object\n",
    "grader.setFunc(\"transposeMatrix\", transposeMatrix)\n",
    "\n",
    "# getting a grade on this part\n",
    "grader.grade()"
   ]
  },
  {
   "cell_type": "markdown",
   "metadata": {
    "tags": []
   },
   "source": [
    "<a id=\"section4\"></a>\n",
    "## 4 Matrix Multiplication\n",
    "Mutliply to matrices."
   ]
  },
  {
   "cell_type": "code",
   "execution_count": 11,
   "metadata": {},
   "outputs": [],
   "source": [
    "def multiplyMatrix(A,B):\n",
    "    \"\"\"\n",
    "    Computing the result of a matrix multiplication of A and B\n",
    "\n",
    "    Returns\n",
    "    -------\n",
    "    A,B : array_like\n",
    "          Input matrices for multiplication\n",
    "\n",
    "    Instructions\n",
    "    ------------\n",
    "    Return the result of the matrix multiplication C = AB.\n",
    "    \"\"\"\n",
    "    mat1 = np.asarray(A.copy())\n",
    "    mat2 = np.asarray(B.copy())\n",
    "    C = np.zeros(shape=(3, 3))\n",
    "\n",
    "    # ======== WRITE YOUR CODE HERE ======\n",
    "    C = np.dot(mat1, mat2)\n",
    "\n",
    "\n",
    "    # ====================================\n",
    "    return C"
   ]
  },
  {
   "cell_type": "markdown",
   "metadata": {},
   "source": [
    "CHECK: The transposed matrix of the below given Matrix should be:\n",
    "    \n",
    "```python\n",
    "A = np.array([[50, 25, 10],\n",
    "                    [30, 44, 2],\n",
    "                    [11, 45, 77]])\n",
    "B = np.array([[55, 25, 15],\n",
    "               [30, 44, 2],\n",
    "                    [11, 45, 77]])\n",
    "```\n",
    "should give:\n",
    "```python\n",
    "array([[3610, 2800, 1570],\n",
    "       [2992, 2776,  692],\n",
    "       [2802, 5720, 6184]])\n",
    "```"
   ]
  },
  {
   "cell_type": "code",
   "execution_count": 12,
   "metadata": {
    "tags": []
   },
   "outputs": [
    {
     "name": "stdout",
     "output_type": "stream",
     "text": [
      "<function multiplyMatrix at 0x15420a700>\n"
     ]
    },
    {
     "data": {
      "text/plain": [
       "array([[3610, 2800, 1570],\n",
       "       [2992, 2776,  692],\n",
       "       [2802, 5720, 6184]])"
      ]
     },
     "execution_count": 12,
     "metadata": {},
     "output_type": "execute_result"
    }
   ],
   "source": [
    "func = multiplyMatrix\n",
    "print(func)\n",
    "A = np.array([[50, 25, 10],\n",
    "                    [30, 44, 2],\n",
    "                    [11, 45, 77]])\n",
    "B = np.array([[55, 25, 15],\n",
    "               [30, 44, 2],\n",
    "                    [11, 45, 77]])\n",
    "multiplyMatrix(A,B)"
   ]
  },
  {
   "cell_type": "markdown",
   "metadata": {
    "tags": []
   },
   "source": [
    "### 4.1 Submitting solutions\n",
    "Make sure your code does the right thing and you have entered your SUBMISSION_TOKEN above.\n",
    "*You can now submit your solutions.*"
   ]
  },
  {
   "cell_type": "code",
   "execution_count": 13,
   "metadata": {},
   "outputs": [
    {
     "name": "stdout",
     "output_type": "stream",
     "text": [
      "\n",
      "Submitting Solutions | Programming Exercise\n",
      "                            Identity Matrix |   5 /   5 | Nice work!\n",
      "                         Determinant Matrix |  10 /  10 | Nice work!\n",
      "                           Transpose Matrix |  10 /  10 | Nice work!\n",
      "                            Multiply Matrix |   5 /   5 | Nice work!\n",
      "                                  --------------------------------\n",
      "                                            |   30 / 30 | \n",
      "\n"
     ]
    }
   ],
   "source": [
    "# appends the implemented function in part 4 to the grader object\n",
    "grader.setFunc(\"multiplyMatrix\", multiplyMatrix)\n",
    "\n",
    "# getting a grade on this part\n",
    "grader.grade()"
   ]
  },
  {
   "cell_type": "markdown",
   "metadata": {},
   "source": [
    "<a id=\"section5\"></a>\n",
    "## 5 Plotting the Data\n",
    "Plot a dataset. In the next exercise you are often given a dataset and you need to apply certain ML techniques on it. In those exercises, as well in real life, it is always a good idea to look at the data first and understand the shape of the data. Here the matplotlib gives you powerful tools at hand to visualize data points. Additionally you are interested using plots to evaluate your ML algorithm on the dataset. Also for plotting evaluation figures matplotlib is a good first choice.\n",
    "In the following a dataset is loaded wich contains 100 2d data points. This toy dataset provides a relation between study hours and gained course grades. Your small exercise here is to plot this dataset. \n",
    "Note: This is simulated data and has nothing to do with ML grades and study hours ;-)\n",
    "<a id=\"plotData\"></a>\n"
   ]
  },
  {
   "cell_type": "code",
   "execution_count": 14,
   "metadata": {},
   "outputs": [],
   "source": [
    "points = np.genfromtxt('data/data.csv', delimiter=',')\n",
    "\n",
    "#Extract columns\n",
    "X = np.array(points[:,0])\n",
    "y = np.array(points[:,1])\n"
   ]
  },
  {
   "cell_type": "markdown",
   "metadata": {},
   "source": [
    "Plot the data with the function plotData. Use the matplotlib documentation to find out what functions you need to use. Also make sure axes are labeled correctly (X axis = 'Study hours', Y axis = \"Student Grade\")"
   ]
  },
  {
   "cell_type": "code",
   "execution_count": 15,
   "metadata": {},
   "outputs": [],
   "source": [
    "def plotData(x, y):\n",
    "    \"\"\"\n",
    "    Plots ALL data points x and y into a 2D figure.\n",
    "\n",
    "    Parameters\n",
    "    ----------\n",
    "    x : array_like\n",
    "        Data point values for x-axis. Note x and y should have the same size.\n",
    "\n",
    "    y : array_like\n",
    "        Data point values for y-axis. Note x and y should have the same size.\n",
    "\n",
    "    Instructions\n",
    "    ------------\n",
    "    Plot the training data into a figure using \"figure\" and \"plot\"\n",
    "    functions. Set the axes labels using the \"xlabel\" and \"ylabel\" functions.\n",
    "    Optional: Change using red circles instead blue points.\n",
    "    \"\"\"\n",
    "    fig = pyplot.figure()  # open a new figure\n",
    "\n",
    "    # ====================== YOUR CODE HERE =======================\n",
    "    pyplot.plot(x, y, 'ro')\n",
    "    pyplot.xlabel('Study hours')\n",
    "    pyplot.ylabel('Student Grade')\n",
    "\n",
    "\n",
    "    # =============================================================\n"
   ]
  },
  {
   "cell_type": "markdown",
   "metadata": {},
   "source": [
    "CHECK: By executing the code below your plot should look similar to this:\n",
    "\n",
    "![](figures/plot.png)"
   ]
  },
  {
   "cell_type": "code",
   "execution_count": 16,
   "metadata": {},
   "outputs": [
    {
     "data": {
      "image/png": "[encoded data removed]",
      "text/plain": [
       "<Figure size 640x480 with 1 Axes>"
      ]
     },
     "metadata": {},
     "output_type": "display_data"
    }
   ],
   "source": [
    "plotData(X, y)"
   ]
  },
  {
   "cell_type": "markdown",
   "metadata": {},
   "source": [
    "To learn more about the `matplotlib` plot function and what arguments you can provide to it, you can type `?pyplot.plot` in a cell within the jupyter notebook."
   ]
  },
  {
   "cell_type": "markdown",
   "metadata": {},
   "source": [
    "<a id=\"section6\"></a>\n",
    "## Upload PDF form Notebook in Moodle\n",
    "Well done. You are now ready with this assignment. \n",
    "\n",
    "<div class=\"alert alert-block alert-warning\">\n",
    "Please make sure that ALL code cells are executed and all results are visible.<br>\n",
    "Make sure submitting in time. <br>\n",
    "Create a PDF from the notebook. You can do this via Visual Code directly: Export as HTML / Nach HTML konvertieren (over command palette / Befelspalette) and then print PDF from HTML.<br>\n",
    "Submit the PDF in the correct task space on moodle: \"Ex1_[FIRST_NAME]_[LAST_NAME]\". Submit only one PDF.\n",
    "</div>"
   ]
  },
  {
   "cell_type": "markdown",
   "metadata": {},
   "source": []
  }
 ],
 "metadata": {
  "kernelspec": {
   "display_name": "mlex_venv",
   "language": "python",
   "name": "python3"
  },
  "language_info": {
   "codemirror_mode": {
    "name": "ipython",
    "version": 3
   },
   "file_extension": ".py",
   "mimetype": "text/x-python",
   "name": "python",
   "nbconvert_exporter": "python",
   "pygments_lexer": "ipython3",
   "version": "3.12.7"
  }
 },
 "nbformat": 4,
 "nbformat_minor": 4
}
